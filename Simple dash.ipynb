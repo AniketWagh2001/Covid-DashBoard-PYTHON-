{
 "cells": [
  {
   "cell_type": "code",
   "execution_count": 46,
   "id": "13b7b25b",
   "metadata": {},
   "outputs": [],
   "source": [
    "import dash\n",
    "import dash_core_components as dcc\n",
    "import dash_html_components as html\n",
    "import plotly.graph_objs as go\n",
    "import numpy as np "
   ]
  },
  {
   "cell_type": "code",
   "execution_count": 44,
   "id": "b632aa83",
   "metadata": {},
   "outputs": [],
   "source": [
    "app = dash.Dash()"
   ]
  },
  {
   "cell_type": "code",
   "execution_count": 45,
   "id": "5e563478",
   "metadata": {},
   "outputs": [],
   "source": [
    "np.random.seed(50)\n",
    "x_rand = np.random.randint(1,61,60)\n",
    "y_rand = np.random.randint(1,61,60)"
   ]
  },
  {
   "cell_type": "code",
   "execution_count": 52,
   "id": "4e499c79",
   "metadata": {},
   "outputs": [],
   "source": [
    "app.layout = html.Div([\n",
    "#     html.H1(children = 'Hello,Dashboard!!',\n",
    "#            style={\n",
    "#                'textAlign':'center',\n",
    "#                'color': 'cyan'\n",
    "#            }),\n",
    "#     html.Div(children = 'Dash - A Data product development framework from plotly',\n",
    "#             style={\n",
    "#                'textAlign':'center',\n",
    "#                'color':'grey'\n",
    "#            }),\n",
    "    \n",
    "    dcc.Graph(\n",
    "        id = 'scatter_chart',\n",
    "        figure = {\n",
    "            'data' : [\n",
    "                go.Scatter(\n",
    "                    x=x_rand,\n",
    "                    y=y_rand,\n",
    "                    mode= 'markers')\n",
    "                \n",
    "            ],\n",
    "            'layout' : go.Layout(\n",
    "                title = 'Scatterplot of Random 60 points',\n",
    "                xaxis = {'title' : 'Random X Values'},\n",
    "                yaxis = {'title' : 'Random Y Values'})\n",
    "                \n",
    "        }\n",
    "    ),\n",
    "    \n",
    "    \n",
    "     dcc.Graph(\n",
    "        id = 'Samplechart1',\n",
    "        figure = {\n",
    "            'data' : [\n",
    "                {'x' : [4,6,8], 'y' : [12,16,18], 'type':'bar','name':'First Chart'},\n",
    "                {'x' : [4,6,8], 'y' : [20,24,28], 'type':'bar','name':'Second Chart'}\n",
    "            ],\n",
    "            'layout': {\n",
    "                'plot_bgcolor' : 'grey',\n",
    "                'paper_bgcolor' : 'aqua',\n",
    "                'font' :{\n",
    "                    'color' : 'red'\n",
    "                },\n",
    "                'title' : 'Simple Bar Chart'\n",
    "            }\n",
    "        })\n",
    "    \n",
    "    \n",
    "])"
   ]
  },
  {
   "cell_type": "code",
   "execution_count": 53,
   "id": "7a92fcd5",
   "metadata": {},
   "outputs": [
    {
     "name": "stdout",
     "output_type": "stream",
     "text": [
      "Dash is running on http://127.0.0.1:4050/\n",
      "\n",
      "Dash is running on http://127.0.0.1:4050/\n",
      "\n",
      " * Serving Flask app '__main__' (lazy loading)\n",
      " * Environment: production\n",
      "\u001b[31m   WARNING: This is a development server. Do not use it in a production deployment.\u001b[0m\n",
      "\u001b[2m   Use a production WSGI server instead.\u001b[0m\n",
      " * Debug mode: off\n"
     ]
    },
    {
     "name": "stderr",
     "output_type": "stream",
     "text": [
      " * Running on http://127.0.0.1:4050/ (Press CTRL+C to quit)\n",
      "127.0.0.1 - - [19/Jul/2021 15:02:17] \"GET / HTTP/1.1\" 200 -\n",
      "127.0.0.1 - - [19/Jul/2021 15:02:17] \"GET /_dash-layout HTTP/1.1\" 200 -\n",
      "127.0.0.1 - - [19/Jul/2021 15:02:17] \"GET /_dash-dependencies HTTP/1.1\" 200 -\n"
     ]
    }
   ],
   "source": [
    "if __name__ == '__main__':\n",
    "    app.run_server(port=4050)"
   ]
  },
  {
   "cell_type": "code",
   "execution_count": null,
   "id": "37956604",
   "metadata": {},
   "outputs": [],
   "source": []
  }
 ],
 "metadata": {
  "kernelspec": {
   "display_name": "pt-venv",
   "language": "python",
   "name": "pt-venv"
  },
  "language_info": {
   "codemirror_mode": {
    "name": "ipython",
    "version": 3
   },
   "file_extension": ".py",
   "mimetype": "text/x-python",
   "name": "python",
   "nbconvert_exporter": "python",
   "pygments_lexer": "ipython3",
   "version": "3.8.10"
  }
 },
 "nbformat": 4,
 "nbformat_minor": 5
}
